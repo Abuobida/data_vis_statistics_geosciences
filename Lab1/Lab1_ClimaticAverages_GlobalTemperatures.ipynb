{
 "cells": [
  {
   "cell_type": "markdown",
   "metadata": {},
   "source": [
    "# Lab One - CLaSP 405 - 002 - Climatic Averages \n",
    "\n",
    "## *Analyzing the Global Temperatures Divergence from Average from 1880 - 2017*\n",
    "\n",
    "In this lab we learn part 1 basics of Python (the programming commands) for data analysis through utilizing the Jupyter environment (this display) to analyze data. \n",
    "\n",
    "You will learn how to: \n",
    "\n",
    "\n",
    "- Use Jupyter\n",
    "- Read in a CSV (comma seperated data file) into a data format for analysis\n",
    "- Implement Simple Flow Structures (for loops, if statements)\n",
    "- Plotting Basics (line plots, bar charts, and colors)\n",
    "- Indexing (simple, and boolean indexing)\n",
    "- Use the following data structures: numpy arrays (1D) and Pandas dataframes (2D)\n",
    "- Use Hex Codes for Colors\n",
    "\n",
    "By the end of this lab you should be able to: read in simple data from CSV, use boolean indexing, and make a line plot / bar chart\n",
    "\n",
    "Additional materials for reading: Igual & Seguí Chapter 1 Chapter 2: Sections 2.1 through 2.6.2 \n",
    "\n",
    "More on Jupyter here:\n",
    "    http://jupyter-notebook.readthedocs.io/en/stable/notebook.html"
   ]
  },
  {
   "cell_type": "markdown",
   "metadata": {},
   "source": [
    "### What is Jupyter?\n",
    "\n",
    "Jupyter is a interactive environment (this \"notebook\") where we can explore how a programming language ie Python works. You can \"run\" various cells at a time by hitting shift-enter OR by hitting run after selecting a cell. \n",
    "\n",
    "To edit a cell: double click. \n",
    "To make a text box cell: use the Cell -> Markdown option\n",
    "\n",
    "I like to think of this as a display format which is mixed text like this box and code in the next box - we will be doing the first lab reports using Jupyter. \n",
    "\n",
    "### What is Python and why are we using it?\n",
    "\n",
    "Python is a object oriented programming language. This means it has 'objects' which have certain rules or methods which you can access to run programming. We will see this in action in the following lab. \n",
    "\n",
    "### Let's start by importing some packages"
   ]
  },
  {
   "cell_type": "code",
   "execution_count": null,
   "metadata": {
    "collapsed": true
   },
   "outputs": [],
   "source": [
    "#think of packages like enabling different levels of a game \n",
    "#the hashtag we use to make a comment, this line can be used so that the computer skips \n",
    "#reading this code\n",
    "\n",
    "import numpy as np\n",
    "import pandas as pd\n",
    "\n",
    "#these two packages enable data analysis through various objects (and their methods) and \n",
    "#data types. \n",
    "\n",
    "#for example, you can create a numpy array - 1D data array - of numbers as follows\n",
    "\n",
    "#this creates an arrange from 0 to 9 every second value\n",
    "ExampleArray = np.arange(0, 10, 2)\n",
    "\n",
    "#you can see this as follows with the following print command\n",
    "\n",
    "#NOTE IT SKIPS THE LAST NUMBER of 10, keep this in mind for later\n",
    "print(ExampleArray)"
   ]
  },
  {
   "cell_type": "code",
   "execution_count": null,
   "metadata": {
    "collapsed": true
   },
   "outputs": [],
   "source": [
    "#each object in python has a type, in this case we see that it is a numpy array.\n",
    "\n",
    "type(ExampleArray)"
   ]
  },
  {
   "cell_type": "code",
   "execution_count": null,
   "metadata": {
    "collapsed": true
   },
   "outputs": [],
   "source": [
    "#We can access different values within an array with indexing, for example:\n",
    "\n",
    "print(ExampleArray[0]) #print index 0 value\n",
    "print(ExampleArray[1]) #print index 1 value"
   ]
  },
  {
   "cell_type": "code",
   "execution_count": null,
   "metadata": {
    "collapsed": true
   },
   "outputs": [],
   "source": [
    "#types also include, integers (non-decimal numbers), floats (decmial numbers), strings (words)\n",
    "\n",
    "#for example\n",
    "print(type(ExampleArray[0]))\n",
    "ExampleInt = 5\n",
    "print(type(ExampleInt))\n",
    "\n",
    "#if you get a type error when you run code, use these type commands to see what is the \n",
    "#issue, most likely you are trying to do something that can not be done to a string, \n",
    "#or an integer etc. \n",
    "\n",
    "#Note the type of this number is an numpy int65\n",
    "#as compared to the type of of Example Int which is JUST int - less accuracy"
   ]
  },
  {
   "cell_type": "markdown",
   "metadata": {},
   "source": [
    "### Now what about that other package we imported? Pandas?\n",
    "\n",
    "Pandas is a package which we use to enable data set analysis. There are other data structures within Python that we \n",
    "can use as well, for example numpy arrays, dictionaries, and lists. We will focus right now on pandas dataframes.\n",
    "\n",
    "### What is a Pandas dataframe?\n",
    "\n",
    "A pandas dataframe is a 2D data structure which includes an index and rows and columns of data. These can include ints, floats, strings, etc. \n",
    "\n",
    "A good way to think of a pandas dataframe is an excel spreadsheet which we analyze and interpret with Python. \n",
    "\n",
    "Enough about all this, let's get our hands on some data. \n"
   ]
  },
  {
   "cell_type": "code",
   "execution_count": null,
   "metadata": {
    "collapsed": true
   },
   "outputs": [],
   "source": [
    "#within the folder you all downloaded is a data subdirectory with global temperature \n",
    "#anomaly data from following comma seperated values (CSV)\n",
    "\n",
    "#this data is from the following website: \n",
    "#https://www.ncdc.noaa.gov/cag/time-series/global/globe/land/ytd/12/1880-2017\n",
    "\n",
    "#Provided by NOAA National Center for Environmental Information\n",
    "\n",
    "#Global temperature anomaly data come from the Global Historical Climatology \n",
    "#Network-Monthly (GHCN-M) data set and International Comprehensive Ocean-Atmosphere \n",
    "#Data Set (ICOADS), which have data from 1880 to the present. \n",
    "\n",
    "#This data is the timeseries of global-scale temperature anomalies calculated with respect to \n",
    "#the 20th century average.\n",
    "\n",
    "#the following command reads from a csv format into a pandas dataframe called temperVarGlobal\n",
    "\n",
    "#note the header = 4 command, this designates four skipped lines before assigned variables. \n",
    "\n",
    "temperVarGlobal = pd.read_csv('./Data/GlobalLandAndOcean_1880-2017_TempVariants.csv', \n",
    "                              header = 4)"
   ]
  },
  {
   "cell_type": "code",
   "execution_count": null,
   "metadata": {
    "collapsed": true
   },
   "outputs": [],
   "source": [
    "#let see if this was read in correctely - \n",
    "\n",
    "#check the type - should be a dataframe\n",
    "print(type(temperVarGlobal))\n",
    "\n",
    "#check the first 10 rows\n",
    "temperVarGlobal.head(n=10)\n",
    "\n",
    "#here you can see on the left hand side the index values, followed by the year, then Value. \n",
    "#This data did NOT provide a nice column name for the rows in the CSV file so we have the \n",
    "#'Value'.\n",
    "\n",
    "#given the information above and at the website we know that this is the temperature anomoly \n",
    "#for Earth for each year in Celcius"
   ]
  },
  {
   "cell_type": "code",
   "execution_count": null,
   "metadata": {
    "collapsed": true
   },
   "outputs": [],
   "source": [
    "#you can also check the column values as follows:\n",
    "\n",
    "print(temperVarGlobal.columns)"
   ]
  },
  {
   "cell_type": "code",
   "execution_count": null,
   "metadata": {
    "collapsed": true
   },
   "outputs": [],
   "source": [
    "#let's rename the column so it's not a vague \"Value\"\n",
    "\n",
    "temperVarGlobal.rename(columns={'Value': 'AnomalyC'}, inplace=True)\n",
    "#inplace = True is to prevent redefining a NEW dataframe object\n",
    "\n",
    "\n",
    "#let's check the columns\n",
    "print(temperVarGlobal.columns)"
   ]
  },
  {
   "cell_type": "code",
   "execution_count": null,
   "metadata": {
    "collapsed": true
   },
   "outputs": [],
   "source": [
    "#how about for fun, let's check the 50'th entry?\n",
    "print(temperVarGlobal.loc[50, 'AnomalyC'])"
   ]
  },
  {
   "cell_type": "code",
   "execution_count": null,
   "metadata": {
    "collapsed": true
   },
   "outputs": [],
   "source": [
    "#what about the entire row?\n",
    "print(temperVarGlobal.loc[50, :])\n",
    "\n",
    "#Can you guess what : does?"
   ]
  },
  {
   "cell_type": "markdown",
   "metadata": {},
   "source": [
    "### This is in Celcius, maybe it would make sense to create a column in Farenheit?\n",
    "\n",
    "Formula is: T(F) = T(C) × 1.8 for a temperature difference we skip  adding 32"
   ]
  },
  {
   "cell_type": "code",
   "execution_count": null,
   "metadata": {
    "collapsed": true
   },
   "outputs": [],
   "source": [
    "#here we define a NEW columns based off the old column\n",
    "temperVarGlobal['AnomalyF'] = temperVarGlobal['AnomalyC'] * 1.8\n",
    "\n",
    "#let's make sure this did what we wanted\n",
    "print(temperVarGlobal.head(n=10))"
   ]
  },
  {
   "cell_type": "markdown",
   "metadata": {},
   "source": [
    "# Plotting"
   ]
  },
  {
   "cell_type": "code",
   "execution_count": null,
   "metadata": {
    "collapsed": true
   },
   "outputs": [],
   "source": [
    "#step one, we import a plotting package\n",
    "import matplotlib.pyplot as plt\n",
    "\n",
    "#and to enable our visualization Jupyter to print our plots IN LINE we use the following\n",
    "#command\n",
    "%matplotlib inline"
   ]
  },
  {
   "cell_type": "code",
   "execution_count": null,
   "metadata": {
    "collapsed": true
   },
   "outputs": [],
   "source": [
    "#define a figure (think of this as a page)\n",
    "fig = plt.figure(figsize=(10, 5))\n",
    "\n",
    "#let's give it a title\n",
    "fig.suptitle('Temperature Variants From 1800 - 2017 Global Averages', fontsize=20)\n",
    "\n",
    "#lets just make a line plot, worry about everything else later\n",
    "plt.plot(temperVarGlobal['Year'], temperVarGlobal['AnomalyF'])\n",
    "\n",
    "#and label some axis. \n",
    "plt.ylabel('Anomaly $\\degree$F', fontsize = 20)\n",
    "plt.xlabel('Year', fontsize = 20)\n",
    "\n",
    "#SPECIAL NOTE using $COMMANDS$  in a text entry will enable mathematical symbols through\n",
    "#Latex - see special enabled commands here: \n",
    "#https://oeis.org/wiki/List_of_LaTeX_mathematical_symbols"
   ]
  },
  {
   "cell_type": "markdown",
   "metadata": {},
   "source": [
    "### So this is sorta...gross looking. 1) the labels are small and hard to read 2) it's also hard to tell if it's below or above zero which is really the main point of this chart...let's add some nifty features"
   ]
  },
  {
   "cell_type": "code",
   "execution_count": null,
   "metadata": {
    "collapsed": true
   },
   "outputs": [],
   "source": [
    "fig = plt.figure(figsize=(10, 5))\n",
    "fig.suptitle('Temperature Variants From 1800 - 2017 Global Averages', fontsize=20)\n",
    "\n",
    "plt.plot(temperVarGlobal['Year'], temperVarGlobal['AnomalyF'])\n",
    "\n",
    "plt.ylabel('Anomaly $\\degree$F', fontsize = 20)\n",
    "plt.xlabel('Year', fontsize = 20)\n",
    "\n",
    "\n",
    "#----------------------------------------- we add the following to our code\n",
    "plt.xticks(fontsize=16) #make the xaxis labels larger\n",
    "plt.yticks(fontsize=16) #make the yaxis labels larger\n",
    "plt.axhline(y=0.0, color='k', linestyle='--') #add a horizontal line at 0\n",
    "plt.grid(color='gray', linestyle='dashed') #add a grid so it's easier to tell if at zero\n",
    "#-----------------------------------------\n"
   ]
  },
  {
   "cell_type": "markdown",
   "metadata": {},
   "source": [
    "### Mmmmmm so this is getting better. But what we loose here is that we KNOW that each point has a definitive width of 1 year, it's an average over that year, the chaotic behaivor of the line is more misleading than informative"
   ]
  },
  {
   "cell_type": "code",
   "execution_count": null,
   "metadata": {
    "collapsed": true
   },
   "outputs": [],
   "source": [
    "fig = plt.figure(figsize=(10, 5))\n",
    "fig.suptitle('Temperature Variants From 1800 - 2017 Global Averages', fontsize=20)\n",
    "\n",
    "#----------------------------------------- we have edited this into a bar chart\n",
    "\n",
    "#note we make it purple for fun ;)\n",
    "#also the align = 'edge' will align to the left side of the range\n",
    "#width = 0.8 rather than 1 simply to make it appear more interesting. Go ahead and play \n",
    "#with the width to see why it's at 0.8\n",
    "plt.bar(temperVarGlobal['Year'], temperVarGlobal['AnomalyF'], width = 0.8, align='edge', \n",
    "        color = 'purple')\n",
    "#----------------------------------------- \n",
    "plt.ylabel('Anomaly $\\degree$F', fontsize = 20)\n",
    "plt.xlabel('Year', fontsize = 20)\n",
    "\n",
    "plt.xticks(fontsize=16)\n",
    "plt.yticks(fontsize=16)\n",
    "plt.axhline(y=0.0, color='k', linestyle='--')\n",
    "\n",
    "plt.grid(color='gray', linestyle='dashed')\n"
   ]
  },
  {
   "cell_type": "markdown",
   "metadata": {},
   "source": [
    "### So while purple was fun, that's not really the point of this chart. We want to show when it's greater than zero, and less than zero. It would be best if these were actually different colors.\n",
    "\n",
    "Remember how we set this equal to purple? We can also assign a column JUST for colors in our dataframe so that each bar could have different colors when we plot it. There are two more obvious ways to go about this. In both ways our goal is to create a NEW column in the data frame with the colors of the bars where \n",
    "\n",
    "if less than zero we make blue ('b'), greater than we make red ('r').\n",
    "\n",
    "Way 1)\n",
    "\n",
    "- The tried and true method of using a for loop to loop over every data value in our array, create a new column, and fill with what color we want it to be. \n",
    "\n",
    "Way 2)\n",
    "\n",
    "- Slightly \"pythonic\" ie it uses the inbuilt methods of objects (in this case dataframes) to avoid writing extensive loop structures\n",
    "\n",
    "\n",
    "Let's start with way one. "
   ]
  },
  {
   "cell_type": "markdown",
   "metadata": {},
   "source": [
    "## 1 - METHOD ONE  - For Loops. "
   ]
  },
  {
   "cell_type": "code",
   "execution_count": null,
   "metadata": {
    "collapsed": true
   },
   "outputs": [],
   "source": [
    "\n",
    "\n",
    "#set up new column just for colors, and fill with 'g' for now. We will know if we did \n",
    "#something wrong when we plot it because it will be green\n",
    "temperVarGlobal['Colors'] = 'g'\n",
    "\n",
    "#now we want to \"loop over\" our data frame, setting each value in the frame in the column of \n",
    "#'Colors' to a set value. \n",
    "\n",
    "#what do I mean by a for loop? Here's a simple example, remember our numpy array from earlier? \n",
    "for i in ExampleArray:\n",
    "    \n",
    "    #print out some text, and what i is\n",
    "    print(\"The value of the array is {}.\".format(i))"
   ]
  },
  {
   "cell_type": "code",
   "execution_count": null,
   "metadata": {
    "collapsed": true
   },
   "outputs": [],
   "source": [
    "#what if we want to count each entry? There's a function called enumerate for numpy arrays\n",
    "#note it starts at zero\n",
    "\n",
    "for index, entry in enumerate(ExampleArray):\n",
    "    #print out some text, and what i is\n",
    "    print(\"The value of the array at index {} is {}.\".format(index, entry))"
   ]
  },
  {
   "cell_type": "code",
   "execution_count": null,
   "metadata": {
    "collapsed": true
   },
   "outputs": [],
   "source": [
    "#this one is a bit more complicated...but it's the same basic idea where enumerate for \n",
    "#numpy arrays is replaced with iterrows() for pandas dataframes, which is exactly what \n",
    "#it sounds like, iterate over rows :) \n",
    "\n",
    "for index, row in temperVarGlobal.iterrows():\n",
    "    #iterrates over the entirty of the dataframe\n",
    "    print(\"At index {} and year {} the value of AnomalyF is: {}\".format(index, row['Year'], \n",
    "                                                                        row['AnomalyF']))\n",
    "    "
   ]
  },
  {
   "cell_type": "code",
   "execution_count": null,
   "metadata": {
    "collapsed": true
   },
   "outputs": [],
   "source": [
    "#now lets actually assign colors, we can use if statments here another flow control structure\n",
    "\n",
    "#in words what this loop means: for every entry in our dataframe, see if > 0 or less < 0\n",
    "\n",
    "\n",
    "for index, row in temperVarGlobal.iterrows():\n",
    "    \n",
    "    #check if greater than 0\n",
    "    if row['AnomalyF'] > 0:\n",
    "        #set value in array as red\n",
    "        temperVarGlobal.at[index, 'Colors'] = 'r'\n",
    "    \n",
    "    #check if less than 0, or equal to\n",
    "    if row['AnomalyF'] <= 0:\n",
    "        #set value in array as blue\n",
    "        temperVarGlobal.at[index, 'Colors'] = 'b'\n"
   ]
  },
  {
   "cell_type": "code",
   "execution_count": null,
   "metadata": {
    "collapsed": true
   },
   "outputs": [],
   "source": [
    "#let's check to see what this looks like, print from index 50 - 70\n",
    "#print both colors and anomalyF columns\n",
    "\n",
    "print(temperVarGlobal.loc[50:70, ['Colors', 'AnomalyF']])"
   ]
  },
  {
   "cell_type": "code",
   "execution_count": null,
   "metadata": {
    "collapsed": true
   },
   "outputs": [],
   "source": [
    "fig = plt.figure(figsize=(10, 5))\n",
    "fig.suptitle('Temperature Variants From 1800 - 2017 Global Averages', fontsize=20)\n",
    "\n",
    "#------------------------------------------------  we edited the following color statement ONLY\n",
    "plt.bar(temperVarGlobal['Year'], temperVarGlobal['AnomalyF'], width = 0.8, align='edge', \n",
    "        color = temperVarGlobal['Colors'])\n",
    "#------------------------------------------------\n",
    "\n",
    "plt.ylabel('Anomaly $\\degree$F', fontsize = 20)\n",
    "plt.xlabel('Year', fontsize = 20)\n",
    "\n",
    "plt.xticks(fontsize=16)\n",
    "plt.yticks(fontsize=16)\n",
    "plt.axhline(y=0.0, color='k', linestyle='--')\n",
    "\n",
    "plt.grid(color='gray', linestyle='dashed')"
   ]
  },
  {
   "cell_type": "markdown",
   "metadata": {},
   "source": [
    "## 2 - METHOD TWO  - Boolean Indexing. \n",
    "\n",
    "Why? In general python \"slows down\" with loops. Also it allows for better programming LATER if we use what we\n",
    "call 'Boolean Indexing'.\n",
    "\n",
    "We use those logic statements before for greater or lesser and use them to select positions in the dataframe to then subset into our data. For example, all places with >0, all places with <0\n"
   ]
  },
  {
   "cell_type": "code",
   "execution_count": null,
   "metadata": {
    "collapsed": true
   },
   "outputs": [],
   "source": [
    "#Step One, create boolean arrays, we call these indexes\n",
    "booleanIndex = temperVarGlobal['AnomalyF'] > 0 \n",
    "\n",
    "print(temperVarGlobal.loc[0:10, 'AnomalyF'])\n",
    "print(booleanIndex[0:10])\n",
    "\n",
    "#let's see what these look like!"
   ]
  },
  {
   "cell_type": "code",
   "execution_count": null,
   "metadata": {
    "collapsed": true
   },
   "outputs": [],
   "source": [
    "#tilda flips the boolean index to the opposite truth value\n",
    "print(~booleanIndex[0:10])"
   ]
  },
  {
   "cell_type": "code",
   "execution_count": null,
   "metadata": {
    "collapsed": true
   },
   "outputs": [],
   "source": [
    "#now rather than the for loop we can set up a different system\n",
    "temperVarGlobal['Colors2'] = 'k'\n",
    "temperVarGlobal.loc[booleanIndex, 'Colors2'] = '#9F4E58' \n",
    "temperVarGlobal.loc[~booleanIndex, 'Colors2'] = '#64ACEA'\n",
    "#and set the colors up here we use hex code - check out this website. \n",
    "#http://www.color-hex.com/color/90537c\n",
    "print(temperVarGlobal.loc[0:10, ['Colors', 'Colors2']])"
   ]
  },
  {
   "cell_type": "code",
   "execution_count": null,
   "metadata": {
    "collapsed": true
   },
   "outputs": [],
   "source": [
    "fig = plt.figure(figsize=(10, 5))\n",
    "fig.suptitle('Temperature Variants From 1800 - 2017 Global Averages', fontsize=20)\n",
    "\n",
    "#-------- we edited the following color statement ONLY\n",
    "plt.bar(temperVarGlobal['Year'], temperVarGlobal['AnomalyF'], width = 0.8, align='edge', \n",
    "        color = temperVarGlobal['Colors2'])\n",
    "#----------\n",
    "\n",
    "plt.ylabel('Anomaly $\\degree$F', fontsize = 20)\n",
    "plt.xlabel('Year', fontsize = 20)\n",
    "\n",
    "plt.xticks(fontsize=16)\n",
    "plt.yticks(fontsize=16)\n",
    "plt.axhline(y=0.0, color='k', linestyle='--')\n",
    "\n",
    "plt.grid(color='gray', linestyle='dashed')\n",
    "\n",
    "plt.savefig('./Figures/TempVariants_GlobalYearlyAverages.png')\n",
    "\n",
    "#please go see within your Jupyter folder the .png file"
   ]
  },
  {
   "cell_type": "markdown",
   "metadata": {},
   "source": [
    "# SUMMARY\n",
    "\n",
    "From this lab you have learned the basics of python packages including: numpy, pandas, and matplotlib.pyplt. \n",
    "\n",
    "We have also learned about flow control structures (for loops, if statements) and how to access a pandas data frame through boolean indexing and through normal indexing and how to manipulate various columns here. \n",
    "\n",
    "Next time we will continue our learning of Python.\n",
    "\n",
    "Homework: Please complete homework 1 located in the file folder - due in 1.5 weeks on Friday the 19th. Office hours for this will be held on Thursday - tommorrow.\n",
    "\n",
    "This homework should take no more than 4-5 hours but you should start early in case you have any questions or run into issues! "
   ]
  },
  {
   "cell_type": "code",
   "execution_count": null,
   "metadata": {},
   "outputs": [],
   "source": []
  }
 ],
 "metadata": {
  "kernelspec": {
   "display_name": "Python 2",
   "language": "python",
   "name": "python2"
  },
  "language_info": {
   "codemirror_mode": {
    "name": "ipython",
    "version": 2
   },
   "file_extension": ".py",
   "mimetype": "text/x-python",
   "name": "python",
   "nbconvert_exporter": "python",
   "pygments_lexer": "ipython2",
   "version": "2.7.14"
  }
 },
 "nbformat": 4,
 "nbformat_minor": 2
}
